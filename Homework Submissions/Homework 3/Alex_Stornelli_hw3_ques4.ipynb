# -*- coding: utf-8 -*-
"""
Created on Sat Oct 19 14:05:31 2024

@author: alexs
"""

import numpy as np
import matplotlib.pyplot as plt

# Constants
g = 9.81  # gravitational acceleration in m/s^2
l = 1.0   # length of the pendulum in meters

# Define the system of differential equations
def pendulum_system(X1, X2):
    dX1_dt = X2  # x' = angular velocity
    dX2_dt = -(g / l) * np.sin(X1)  # x'' = -g/l * sin(x)
    return dX1_dt, dX2_dt

# Create a grid of X1 (angle) and X2 (angular velocity)
x1_vals = np.linspace(-3*np.pi, 3*np.pi, 20)  # angle range from -3π to 3π
x2_vals = np.linspace(-10, 10, 20)            # angular velocity range from -10 to 10
X1, X2 = np.meshgrid(x1_vals, x2_vals)

# Calculate the derivatives at each point in the grid
U, V = pendulum_system(X1, X2)

# Plot the quiver plot
plt.figure(figsize=(8, 6))
plt.quiver(X1, X2, U, V, color='b')

# Labels and titles
plt.title("Phase Space of Pendulum")
plt.xlabel("Angle (rad)")
plt.ylabel("Angular Velocity (rad/s)")
plt.grid(True)
plt.xlim([-3*np.pi, 3*np.pi])  # Restrict x-axis to -3π to 3π
plt.ylim([-10, 10])

# Custom x-ticks to display in terms of multiples of pi
plt.xticks([-3*np.pi, -2*np.pi, -np.pi, 0, np.pi, 2*np.pi, 3*np.pi], 
           [r'$-3\pi$', r'$-2\pi$', r'$-\pi$', r'$0$', r'$\pi$', r'$2\pi$', r'$3\pi$'])

# Show the plot
plt.show()

