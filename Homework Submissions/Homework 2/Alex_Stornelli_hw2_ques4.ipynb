# -*- coding: utf-8 -*-
"""
Created on Thu Sep 26 10:31:53 2024

@author: alexs
"""

import numpy as np
import matplotlib.pyplot as plt
from matplotlib.animation import FuncAnimation

# Define the function
def f(x, k):
    return np.sin(x) * np.cos(x - k)

# Create an array of x values
x = np.linspace(-10, 10, 400)

# Set up the figure and axis
fig, ax = plt.subplots(figsize=(8, 6))
line, = ax.plot(x, f(x, 0), lw=2)

# Set the labels and title
ax.set_xlabel('$\u03C6$')
ax.set_ylabel('$\dot{\u03C6}$')
ax.set_title('$\dot{\u03C6}$ changing with k')
ax.grid(True)

# Set the limits for the plot
ax.set_xlim(-10, 10)
ax.set_ylim(-1, 1)

# Define the animation function
def animate(k):
    line.set_ydata(f(x, k))  # Update the y-data of the plot
    return line,

# Create the animation object
ani = FuncAnimation(fig, animate, frames=np.linspace(0, 2*np.pi, 100), interval=50, blit=True)

# Show the animation
plt.show()
